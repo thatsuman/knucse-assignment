{
 "cells": [
  {
   "cell_type": "code",
   "execution_count": 12,
   "id": "e27a43a7",
   "metadata": {},
   "outputs": [
    {
     "name": "stdout",
     "output_type": "stream",
     "text": [
      "SUMAN\n"
     ]
    }
   ],
   "source": [
    "# Q01. WAP to take input \"suman\" and output is\"SUMAN\" using chr and ord function.\n",
    "\n",
    "input_str = \"suman\"\n",
    "output_str = \"\"\n",
    "\n",
    "for char in input_str:\n",
    "    if ord('a') <= ord(char) <= ord('z'):\n",
    "        uppercase_char = chr(ord(char) - 32)\n",
    "        output_str += uppercase_char\n",
    "    else:\n",
    "        output_str += char\n",
    "\n",
    "print(output_str)\n",
    "\n"
   ]
  },
  {
   "cell_type": "code",
   "execution_count": 14,
   "id": "76727a68",
   "metadata": {},
   "outputs": [
    {
     "name": "stdout",
     "output_type": "stream",
     "text": [
      "Enter a string: sumanmondal\n",
      "Number of vowels: 4\n"
     ]
    }
   ],
   "source": [
    "# Q02. WAP to count the no of vowels in a string\n",
    "\n",
    "input_str = input(\"Enter a string: \")\n",
    "vowels = ['a', 'e', 'i', 'o', 'u']\n",
    "count = 0\n",
    "\n",
    "for char in input_str:\n",
    "    if char.lower() in vowels:\n",
    "        count += 1\n",
    "\n",
    "print(\"Number of vowels:\", count)\n"
   ]
  },
  {
   "cell_type": "code",
   "execution_count": 1,
   "id": "46311968",
   "metadata": {},
   "outputs": [
    {
     "name": "stdout",
     "output_type": "stream",
     "text": [
      "Enter a string: tenet\n",
      "The string is a palindrome.\n"
     ]
    }
   ],
   "source": [
    "# Q03. WAP to check a string Palindrom or Not\n",
    "\n",
    "input_string = input(\"Enter a string: \")\n",
    "reversed_string = input_string[::-1]\n",
    "\n",
    "if input_string == reversed_string:\n",
    "    print(\"The string is a palindrome.\")\n",
    "else:\n",
    "    print(\"The string is not a palindrome.\")"
   ]
  },
  {
   "cell_type": "code",
   "execution_count": 3,
   "id": "188fd369",
   "metadata": {},
   "outputs": [
    {
     "name": "stdout",
     "output_type": "stream",
     "text": [
      "Enter a string: abc1234\n",
      "Sum of digits: 10\n"
     ]
    }
   ],
   "source": [
    "# Q04. WAP to take input a string \"abc1234\" and sum of the digits is 10.\n",
    "\n",
    "input_string = input(\"Enter a string: \")\n",
    "sum_of_digits = 0\n",
    "\n",
    "for char in input_string:\n",
    "    if char.isdigit():\n",
    "        sum_of_digits += int(char)\n",
    "    \n",
    "print(\"Sum of digits:\", sum_of_digits)\n"
   ]
  },
  {
   "cell_type": "code",
   "execution_count": 12,
   "id": "d33fe0f7",
   "metadata": {},
   "outputs": [
    {
     "name": "stdout",
     "output_type": "stream",
     "text": [
      "The frequency of the character 'n' in the string 'Suman Mondal' is 2.\n"
     ]
    }
   ],
   "source": [
    "# Q05. WAP to find the frequency of character in a string\n",
    "\n",
    "def find_frequency(string, character):\n",
    "    count = 0\n",
    "    for c in string:\n",
    "        if c == character:\n",
    "            count += 1\n",
    "    return count\n",
    "\n",
    "\n",
    "if __name__ == \"__main__\":\n",
    "    string = \"Suman Mondal\"\n",
    "    character = \"n\"\n",
    "    frequency = find_frequency(string, character)\n",
    "    print(f\"The frequency of the character '{character}' in the string '{string}' is {frequency}.\")\n"
   ]
  },
  {
   "cell_type": "code",
   "execution_count": 11,
   "id": "4beeb248",
   "metadata": {},
   "outputs": [
    {
     "name": "stdout",
     "output_type": "stream",
     "text": [
      "Suman Mondal\n"
     ]
    }
   ],
   "source": [
    "# Q06. .WAP to convert the 1st character of each word in capital\n",
    "\n",
    "def capitalize_first_letter(text):\n",
    "    words = text.split()\n",
    "    capitalized_words = []\n",
    "    \n",
    "    for word in words:\n",
    "        capitalized_words.append(word[0].upper() + word[1:])\n",
    "\n",
    "    return \" \".join(capitalized_words)\n",
    "\n",
    "\n",
    "if __name__ == \"__main__\":\n",
    "    text = \"suman mondal\"\n",
    "    print(capitalize_first_letter(text))\n"
   ]
  },
  {
   "cell_type": "code",
   "execution_count": null,
   "id": "03b05d4e",
   "metadata": {},
   "outputs": [],
   "source": []
  }
 ],
 "metadata": {
  "kernelspec": {
   "display_name": "Python 3 (ipykernel)",
   "language": "python",
   "name": "python3"
  },
  "language_info": {
   "codemirror_mode": {
    "name": "ipython",
    "version": 3
   },
   "file_extension": ".py",
   "mimetype": "text/x-python",
   "name": "python",
   "nbconvert_exporter": "python",
   "pygments_lexer": "ipython3",
   "version": "3.9.12"
  }
 },
 "nbformat": 4,
 "nbformat_minor": 5
}
