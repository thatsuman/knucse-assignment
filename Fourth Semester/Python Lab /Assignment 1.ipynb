{
 "cells": [
  {
   "cell_type": "code",
   "execution_count": 14,
   "id": "b754cf12",
   "metadata": {},
   "outputs": [
    {
     "name": "stdout",
     "output_type": "stream",
     "text": [
      "Enter a number: 6969\n",
      "6969 is Odd\n"
     ]
    }
   ],
   "source": [
    " # Q01. Write a Python program to check whether a given number is even or odd\n",
    "\n",
    "num = int (input (\"Enter a number: \"))\n",
    "\n",
    "print (\"{0} is Even\".format(num)) if (num % 2) == 0 else print (\"{0} is Odd\".format(num))"
   ]
  },
  {
   "cell_type": "code",
   "execution_count": 16,
   "id": "c3ad5a6a",
   "metadata": {},
   "outputs": [
    {
     "name": "stdout",
     "output_type": "stream",
     "text": [
      "Enter a number: -696969\n",
      "-696969 is Negative\n"
     ]
    }
   ],
   "source": [
    "# Q02. Write a Python program to check whether a given number is positive or negative\n",
    "\n",
    "num = int (input (\"Enter a number: \"))\n",
    "\n",
    "if (num > 0):\n",
    "    print (\"{0} is Positve\".format(num))\n",
    "elif (num == 0):\n",
    "    print (\"{0} is Absolute Zero\".format(num))\n",
    "else:\n",
    "    print (\"{0} is Negative\".format(num))"
   ]
  },
  {
   "cell_type": "code",
   "execution_count": 17,
   "id": "bbda1208",
   "metadata": {},
   "outputs": [
    {
     "name": "stdout",
     "output_type": "stream",
     "text": [
      "Enter a year: 2400\n",
      "2400 is a leap year\n"
     ]
    }
   ],
   "source": [
    "# Q03. Write a Python program to find whether a given year is a leap year or not\n",
    "\n",
    "year = int(input(\"Enter a year: \"))\n",
    "\n",
    "if (year % 400 == 0) and (year % 100 == 0):\n",
    "    print(\"{0} is a leap year\".format(year))\n",
    "elif (year % 4 ==0) and (year % 100 != 0):\n",
    "    print(\"{0} is a leap year\".format(year))\n",
    "else:\n",
    "    print(\"{0} is not a leap year\".format(year))"
   ]
  },
  {
   "cell_type": "code",
   "execution_count": 21,
   "id": "ea891b2b",
   "metadata": {},
   "outputs": [
    {
     "name": "stdout",
     "output_type": "stream",
     "text": [
      "Enter the 1st Number: 100\n",
      "Enter the 2nd Number: -97\n",
      "Enter the 3rd Number: 25\n",
      "100 is Largest\n"
     ]
    }
   ],
   "source": [
    "# Q04. Write a Python program to find the largest of three numbers.\n",
    "\n",
    "num1 = int (input (\"Enter the 1st Number: \"))\n",
    "num2 = int (input (\"Enter the 2nd Number: \"))\n",
    "num3 = int (input (\"Enter the 3rd Number: \"))\n",
    "\n",
    "if (num1 > num2 and num1 > num3):\n",
    "    print (\"{0} is Largest\".format(num1))\n",
    "elif (num2 > num1 and num2 > num3):\n",
    "    print (\"{0} is Largest\".format(num2))\n",
    "else:\n",
    "    print (\"{0} is Largest\".format(num3))"
   ]
  },
  {
   "cell_type": "code",
   "execution_count": 28,
   "id": "9c34cbd5",
   "metadata": {},
   "outputs": [
    {
     "name": "stdout",
     "output_type": "stream",
     "text": [
      "Enter marks in Mathematics: 58\n",
      "Enter marks in Physics: 96\n",
      "Enter marks in Chemistry: 76\n",
      "You are not eligible to admission\n"
     ]
    }
   ],
   "source": [
    "# Q05. Write a Python program to find the eligibility of admission for a professional course based on the following  criteria\n",
    "#Eligibility Criteria : Marks in Maths >=65 and Marks in Phy >=55 and Marks in Chem>=50 and Total in all  three subject >=190 or Total in Maths and Physics >=140\n",
    "\n",
    "math = int (input (\"Enter marks in Mathematics: \"))\n",
    "physics = int (input (\"Enter marks in Physics: \"))\n",
    "chem = int (input (\"Enter marks in Chemistry: \"))\n",
    "\n",
    "total = (math + physics + chem)\n",
    "total_math_phy = (math + physics)\n",
    "\n",
    "if (math >= 65 and physics >= 55 and chem >= 50) and (total >= 190 or total_math_phy >= 140):\n",
    "    print (\"You are eligible to admission\")\n",
    "else:\n",
    "    print (\"You are not eligible to admission\")"
   ]
  },
  {
   "cell_type": "code",
   "execution_count": 26,
   "id": "6d878b00",
   "metadata": {},
   "outputs": [
    {
     "name": "stdout",
     "output_type": "stream",
     "text": [
      "Enter your roll number: 100225570\n",
      "Enter your name: Suman Mondal\n",
      "Enter marks in Mathematics: 76\n",
      "Enter marks in Computer Science: 80\n",
      "Enter marks in Geography: 75\n",
      "Roll Number: 100225570\n",
      "Name: Suman Mondal\n",
      "Marks in Mathematics: 76\n",
      "Marks in Computer Science: 80\n",
      "Marks in Geography: 75\n",
      "Total Marks: 231\n",
      "Percentage: 77.0\n",
      "Division: Second\n"
     ]
    }
   ],
   "source": [
    "# Q06. Write a Python program to read roll no, name and marks of three subjects and calculate the total, percentage and division.\n",
    "\n",
    "roll_no = int (input (\"Enter your roll number: \"))\n",
    "name = str (input (\"Enter your name: \"))\n",
    "math = int (input (\"Enter marks in Mathematics: \"))\n",
    "comp_sc = int (input (\"Enter marks in Computer Science: \"))\n",
    "geo = int (input (\"Enter marks in Geography: \"))\n",
    "\n",
    "total = math + comp_sc + geo\n",
    "percentage = total / 3\n",
    "\n",
    "print (\"Roll Number: {0}\".format(roll_no))\n",
    "print (\"Name: {0}\".format(name))\n",
    "print (\"Marks in Mathematics: {0}\".format(math))\n",
    "print (\"Marks in Computer Science: {0}\".format(comp_sc))\n",
    "print (\"Marks in Geography: {0}\".format(geo))\n",
    "print (\"Total Marks: {0}\".format(total))\n",
    "print (\"Percentage: {0}\".format(percentage))\n",
    "\n",
    "if (percentage >= 80):\n",
    "    print (\"Division: First\")\n",
    "elif (percentage >= 50 and percentage <=79):\n",
    "    print (\"Division: Second\")\n",
    "else:\n",
    "    print (\"Division: Thrid\")"
   ]
  },
  {
   "cell_type": "code",
   "execution_count": 27,
   "id": "f1572b50",
   "metadata": {},
   "outputs": [
    {
     "name": "stdout",
     "output_type": "stream",
     "text": [
      "Enter temperature in celcius: 35\n",
      "It's Hot :)\n"
     ]
    }
   ],
   "source": [
    "# Q07: Write a Python program to read temperature in centigrade and display a suitable message according to temperature state below : \n",
    "            # Temp < 0 then Freezing weather\n",
    "            # Temp 0-10 then Very Cold weather\n",
    "            # Temp 10-20 then Cold weather\n",
    "            # Temp 20-30 then Normal in Temp\n",
    "            # Temp 30-40 then Its Hot\n",
    "            # Temp >=40 then Its Very Hot\n",
    "            \n",
    "temp = int (input (\"Enter temperature in celcius: \"))\n",
    "\n",
    "if (temp < 0):\n",
    "    print (\"Freezing Weather\")\n",
    "if (temp >= 0 and temp < 10):\n",
    "    print (\"Very Cold Weather\")\n",
    "if (temp >= 10 and temp < 20):\n",
    "    print (\"Cold Weather\")\n",
    "if (temp >= 20 and temp < 30):\n",
    "    print (\"Normal Weather\")\n",
    "if (temp >= 30 and temp < 40):\n",
    "    print (\"It's Hot :)\")\n",
    "if (temp >= 40):\n",
    "    print (\"Very Hot\")"
   ]
  },
  {
   "cell_type": "code",
   "execution_count": 30,
   "id": "a4c4dc5a",
   "metadata": {},
   "outputs": [
    {
     "name": "stdout",
     "output_type": "stream",
     "text": [
      "Enter buying amount: 600\n",
      "Enter selling amount: 480\n",
      "You booked loss amount: -120\n"
     ]
    }
   ],
   "source": [
    "# Q08: Write a Python program to calculate profit and loss on a transaction\n",
    "\n",
    "buy = int (input (\"Enter buying amount: \"))\n",
    "sell = int (input (\"Enter selling amount: \"))\n",
    "\n",
    "diff = sell - buy\n",
    "\n",
    "if (sell > buy):\n",
    "    print (\"You booked profit amount: {0}\".format(diff))\n",
    "else:\n",
    "    print (\"You booked loss amount: {0}\".format(diff))"
   ]
  },
  {
   "cell_type": "code",
   "execution_count": null,
   "id": "edb9ec30",
   "metadata": {},
   "outputs": [],
   "source": []
  }
 ],
 "metadata": {
  "kernelspec": {
   "display_name": "Python 3 (ipykernel)",
   "language": "python",
   "name": "python3"
  },
  "language_info": {
   "codemirror_mode": {
    "name": "ipython",
    "version": 3
   },
   "file_extension": ".py",
   "mimetype": "text/x-python",
   "name": "python",
   "nbconvert_exporter": "python",
   "pygments_lexer": "ipython3",
   "version": "3.9.12"
  }
 },
 "nbformat": 4,
 "nbformat_minor": 5
}
