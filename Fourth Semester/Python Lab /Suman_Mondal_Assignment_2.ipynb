{
 "cells": [
  {
   "cell_type": "code",
   "execution_count": 1,
   "id": "66c7db57",
   "metadata": {},
   "outputs": [
    {
     "name": "stdout",
     "output_type": "stream",
     "text": [
      "Enter integer number to display table: 13\n",
      "13 x 1 = 13\n",
      "13 x 2 = 26\n",
      "13 x 3 = 39\n",
      "13 x 4 = 52\n",
      "13 x 5 = 65\n",
      "13 x 6 = 78\n",
      "13 x 7 = 91\n",
      "13 x 8 = 104\n",
      "13 x 9 = 117\n",
      "13 x 10 = 130\n"
     ]
    }
   ],
   "source": [
    "# Q01. Write a program in Python to display the multiplication table of a given integer\n",
    "\n",
    "num = int (input (\"Enter integer number to display table: \"))\n",
    "\n",
    "for i in range (1, 11):\n",
    "    print (num, 'x', i, '=', num*i)"
   ]
  },
  {
   "cell_type": "code",
   "execution_count": 6,
   "id": "48b9f9ed",
   "metadata": {},
   "outputs": [
    {
     "name": "stdout",
     "output_type": "stream",
     "text": [
      "Enter integer num to calculate factorial: 6\n",
      "Factorial of  6 is  720\n"
     ]
    }
   ],
   "source": [
    "# Q02. Write a Python program to calculate the factorial of a given number\n",
    "\n",
    "def factorial (num):\n",
    "    if num == 1:\n",
    "        return  1\n",
    "    else:\n",
    "        return (num * factorial (num - 1))\n",
    "\n",
    "x = int (input (\"Enter integer num to calculate factorial: \"))\n",
    "\n",
    "print (\"Factorial of \", x , \"is \", factorial(x))"
   ]
  },
  {
   "cell_type": "code",
   "execution_count": null,
   "id": "0958a661",
   "metadata": {},
   "outputs": [],
   "source": [
    "# Q03. Write a Python program to check whether a given number is a perfect number or not\n",
    "\n"
   ]
  }
 ],
 "metadata": {
  "kernelspec": {
   "display_name": "Python 3 (ipykernel)",
   "language": "python",
   "name": "python3"
  },
  "language_info": {
   "codemirror_mode": {
    "name": "ipython",
    "version": 3
   },
   "file_extension": ".py",
   "mimetype": "text/x-python",
   "name": "python",
   "nbconvert_exporter": "python",
   "pygments_lexer": "ipython3",
   "version": "3.9.12"
  }
 },
 "nbformat": 4,
 "nbformat_minor": 5
}
