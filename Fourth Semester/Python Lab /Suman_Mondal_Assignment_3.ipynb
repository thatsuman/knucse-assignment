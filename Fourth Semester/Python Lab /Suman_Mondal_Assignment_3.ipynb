{
 "cells": [
  {
   "cell_type": "code",
   "execution_count": 4,
   "id": "b4e13a0f",
   "metadata": {},
   "outputs": [
    {
     "name": "stdout",
     "output_type": "stream",
     "text": [
      "Even numbers in the list:  4\n"
     ]
    }
   ],
   "source": [
    "# Q01. WAP to Count the No. of elements are even in a List\n",
    "\n",
    "arr = [1, 2, 3, 4, 5, 6, 7, 8]\n",
    "even_count = 0\n",
    "for num in arr:\n",
    "    if num % 2 == 0:\n",
    "        even_count += 1\n",
    "\n",
    "print(\"Even numbers in the list: \", even_count)"
   ]
  },
  {
   "cell_type": "code",
   "execution_count": 6,
   "id": "20e814c9",
   "metadata": {},
   "outputs": [
    {
     "name": "stdout",
     "output_type": "stream",
     "text": [
      "[1, 2, 3, 5, 6, 7, 8, 9, 10, 0, 0, 0, 0, 0, 0]\n"
     ]
    }
   ],
   "source": [
    "# Q02. WAP to print all non zero elements left side in a list and all zeros in right side and all non zeros on the left side\n",
    "\n",
    "arr = [1, 0, 2, 0, 3, 0, 0, 5, 6, 7, 8, 0, 9, 10, 0]\n",
    "arr_new = []\n",
    "for i in arr:\n",
    "    if(i > 0):\n",
    "        arr_new.append(i)\n",
    "for i in arr:\n",
    "    if(i == 0):\n",
    "         arr_new.append(i)\n",
    "print(arr_new)\n"
   ]
  },
  {
   "cell_type": "code",
   "execution_count": 7,
   "id": "4afa5c89",
   "metadata": {},
   "outputs": [
    {
     "name": "stdout",
     "output_type": "stream",
     "text": [
      "89\n"
     ]
    }
   ],
   "source": [
    "# Q03. WAP to find the maximum element of a list\n",
    "\n",
    "arr = [12, 43, 56, 0, -2, 56, 47, 89]\n",
    "print (max(arr))"
   ]
  },
  {
   "cell_type": "code",
   "execution_count": 9,
   "id": "bc83e4f2",
   "metadata": {},
   "outputs": [
    {
     "name": "stdout",
     "output_type": "stream",
     "text": [
      "Enter the number you want to check its frequency : 0\n",
      "Frequency of the element 0 is: 4\n"
     ]
    }
   ],
   "source": [
    "# Q04. WAP to find the frequency of character in a list\n",
    "\n",
    "arr = [1, 0, 2, 0, 3, 0, 0, 5, 6, 11]\n",
    "count = 0\n",
    "num = int(input(\"Enter the number you want to check its frequency : \"))\n",
    "for i in arr:\n",
    "    if(num == i):\n",
    "         count += 1\n",
    "print(\"Frequency of the element\",num ,'is:', count)"
   ]
  },
  {
   "cell_type": "code",
   "execution_count": 10,
   "id": "f4fb3448",
   "metadata": {},
   "outputs": [
    {
     "name": "stdout",
     "output_type": "stream",
     "text": [
      "Enter the number you want to search: 98\n",
      "Item found at position 7\n"
     ]
    }
   ],
   "source": [
    "# Q05. WAP to search a element from a list\n",
    "\n",
    "arr = [34, 5, 4, 0, -56, 90, 98, 587, 23, 59, 97, 102, -34]\n",
    "num =  int(input(\"Enter the number you want to search: \"))\n",
    "if num in arr:\n",
    "    print (\"Item found at position\", arr.index(num)+1)\n",
    "else:\n",
    "    print (\"Item NOT FOUND!!\")"
   ]
  },
  {
   "cell_type": "code",
   "execution_count": 11,
   "id": "92bfb7a2",
   "metadata": {},
   "outputs": [
    {
     "name": "stdout",
     "output_type": "stream",
     "text": [
      "[1, 2, 4, 5, 7, 8]\n"
     ]
    }
   ],
   "source": [
    "# Q06. WAP to sort the list of elemets \n",
    "\n",
    "arr = [1, 4, 2, 8, 5, 7]\n",
    "arr.sort()\n",
    "print(arr)\n"
   ]
  },
  {
   "cell_type": "code",
   "execution_count": 13,
   "id": "c33c3d4b",
   "metadata": {},
   "outputs": [
    {
     "name": "stdout",
     "output_type": "stream",
     "text": [
      "Original List:  [1, 2, 4, 2, 1, 4, 5]\n",
      "List after removing duplicate elements:  [1, 2, 4, 5]\n"
     ]
    }
   ],
   "source": [
    "# Q07. WAP to delete all duplicate element from the list\n",
    "\n",
    "arr = [1, 2, 4, 2, 1, 4, 5]\n",
    "print(\"Original List: \", arr)\n",
    "res = [*set(arr)]\n",
    "print(\"List after removing duplicate elements: \", res)\n"
   ]
  },
  {
   "cell_type": "code",
   "execution_count": 14,
   "id": "9d178cd6",
   "metadata": {},
   "outputs": [
    {
     "name": "stdout",
     "output_type": "stream",
     "text": [
      "[4, 5]\n"
     ]
    }
   ],
   "source": [
    "# Q08. WAP to find the common elements between two list and append the element into the third list\n",
    "\n",
    "arr1 = [1,2,3,4,5]\n",
    "arr2 = [4,5,6,7,8]\n",
    "arr3 = []\n",
    "for i in arr1:\n",
    "    if i in arr2:\n",
    "         arr3.append(i)\n",
    "print(arr3)\n"
   ]
  },
  {
   "cell_type": "code",
   "execution_count": 15,
   "id": "3da78a94",
   "metadata": {},
   "outputs": [
    {
     "name": "stdout",
     "output_type": "stream",
     "text": [
      "Total pairs such that both are even = 2\n"
     ]
    }
   ],
   "source": [
    "# Q09. WAP to count the no of pairs are even\n",
    "\n",
    "tup = ((2, 4), (1, 3), (5, 6), (8, 10))\n",
    "count = 0\n",
    "for i, j in tup:\n",
    "    if(i % 2 == 0 and j % 2 == 0):\n",
    "         count += 1\n",
    "print('Total pairs such that both are even =', count)"
   ]
  },
  {
   "cell_type": "code",
   "execution_count": 17,
   "id": "a7363008",
   "metadata": {},
   "outputs": [
    {
     "name": "stdout",
     "output_type": "stream",
     "text": [
      "Sorted: \n",
      "[(2, 1), (1, 2), (5, 3), (3, 4)]\n"
     ]
    }
   ],
   "source": [
    "# Q10. WAP to sorting the element in asscending order according the 2nd position element of tuple\n",
    "\n",
    "def last(n):\n",
    "    return n[-1]\n",
    "def sort(tuples):\n",
    "    return sorted(tuples, key = last)\n",
    "arr = [(1, 2), (2, 1), (3, 4), (5, 3)]\n",
    "print(\"Sorted: \")\n",
    "print(sort(arr))"
   ]
  },
  {
   "cell_type": "code",
   "execution_count": 19,
   "id": "bad32aa4",
   "metadata": {},
   "outputs": [
    {
     "name": "stdout",
     "output_type": "stream",
     "text": [
      "list after removing EVEN numbers: [3, 7, 9, 11]\n"
     ]
    }
   ],
   "source": [
    "# Q11. WAP to print the list after removing all even nos.\n",
    "\n",
    "arr = [2, 3, 4, 7, 9, 11, 14]\n",
    "for i in arr:\n",
    "    if(i % 2 == 0):\n",
    "         arr.remove(i)\n",
    "print (\"list after removing EVEN numbers:\", arr)"
   ]
  },
  {
   "cell_type": "code",
   "execution_count": 23,
   "id": "15ace59c",
   "metadata": {},
   "outputs": [
    {
     "name": "stdout",
     "output_type": "stream",
     "text": [
      "[1, 3, 4, 3]\n"
     ]
    }
   ],
   "source": [
    "# Q12. WAP to remove all occurences of an element a list\n",
    "\n",
    "mylist = [1 , 2, 3, 4, 2, 2, 3]\n",
    "value_to_remove = 2\n",
    "mylist = [i for i in mylist if i != value_to_remove]\n",
    "print(mylist)"
   ]
  },
  {
   "cell_type": "code",
   "execution_count": null,
   "id": "ea269f32",
   "metadata": {},
   "outputs": [],
   "source": []
  }
 ],
 "metadata": {
  "kernelspec": {
   "display_name": "Python 3 (ipykernel)",
   "language": "python",
   "name": "python3"
  },
  "language_info": {
   "codemirror_mode": {
    "name": "ipython",
    "version": 3
   },
   "file_extension": ".py",
   "mimetype": "text/x-python",
   "name": "python",
   "nbconvert_exporter": "python",
   "pygments_lexer": "ipython3",
   "version": "3.9.12"
  }
 },
 "nbformat": 4,
 "nbformat_minor": 5
}
